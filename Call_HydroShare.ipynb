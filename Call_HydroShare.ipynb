{
 "cells": [
  {
   "cell_type": "code",
   "execution_count": null,
   "metadata": {},
   "outputs": [],
   "source": [
    "! pip install hs_restclient\n",
    "\n"
   ]
  },
  {
   "cell_type": "code",
   "execution_count": null,
   "metadata": {},
   "outputs": [],
   "source": [
    "import sqlite3\n",
    "import numpy as np\n",
    "import pandas as pd\n"
   ]
  },
  {
   "cell_type": "code",
   "execution_count": null,
   "metadata": {},
   "outputs": [],
   "source": [
    "print 'working'"
   ]
  },
  {
   "cell_type": "code",
   "execution_count": null,
   "metadata": {},
   "outputs": [],
   "source": [
    "from hs_restclient import HydroShare, HydroShareAuthBasic\n",
    "\n",
    "# username = input(\"Username: \").strip()\n",
    "username = 'amabdallah'\n",
    "\n",
    "import getpass\n",
    "\n",
    "# password = getpass.getpass(\"Password for {}: \".format(username))\n",
    "password = 'MyHydroShareWorld'\n",
    "\n",
    "auth = HydroShareAuthBasic(username=username, password=password)\n",
    "\n",
    "hs = HydroShare(auth=auth)\n",
    "\n",
    "print 'connected'"
   ]
  },
  {
   "cell_type": "code",
   "execution_count": null,
   "metadata": {},
   "outputs": [],
   "source": [
    "fname=\n",
    "\n",
    "Sqlite=sqlite3.connect(hs.getResourceFolderContents('85e9fe85b08244198995558fe7d0e294',fname, destination='/directory/to/download/file/to'))\n",
    "print 'done'"
   ]
  },
  {
   "cell_type": "code",
   "execution_count": null,
   "metadata": {
    "collapsed": true
   },
   "outputs": [],
   "source": []
  }
 ],
 "metadata": {
  "kernelspec": {
   "display_name": "Python 2",
   "language": "python",
   "name": "python2"
  },
  "language_info": {
   "codemirror_mode": {
    "name": "ipython",
    "version": 2
   },
   "file_extension": ".py",
   "mimetype": "text/x-python",
   "name": "python",
   "nbconvert_exporter": "python",
   "pygments_lexer": "ipython2",
   "version": "2.7.13"
  }
 },
 "nbformat": 4,
 "nbformat_minor": 2
}
