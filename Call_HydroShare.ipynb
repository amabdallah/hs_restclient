{
 "cells": [
  {
   "cell_type": "markdown",
   "metadata": {},
   "source": [
    "## Query and Analyiz modeling data pubishing in HydroShare through a WaMDaM resource type\n",
    "\n"
   ]
  },
  {
   "cell_type": "markdown",
   "metadata": {},
   "source": [
    "### Install libraries"
   ]
  },
  {
   "cell_type": "code",
   "execution_count": 1,
   "metadata": {
    "collapsed": false
   },
   "outputs": [
    {
     "name": "stdout",
     "output_type": "stream",
     "text": [
      "imported\n"
     ]
    }
   ],
   "source": [
    "import sqlite3\n",
    "import numpy as np\n",
    "import pandas as pd\n",
    "import getpass\n",
    "\n",
    "print 'imported'"
   ]
  },
  {
   "cell_type": "markdown",
   "metadata": {},
   "source": [
    "### Connect to HydroShare"
   ]
  },
  {
   "cell_type": "code",
   "execution_count": 2,
   "metadata": {
    "collapsed": false
   },
   "outputs": [
    {
     "name": "stdout",
     "output_type": "stream",
     "text": [
      "Connected to HydroShare\n"
     ]
    }
   ],
   "source": [
    "from hs_restclient import HydroShare, HydroShareAuthBasic\n",
    "\n",
    "# username = input(\"Username: \").strip()\n",
    "username = 'amabdallah'\n",
    "\n",
    "# password = getpass.getpass(\"Password for {}: \".format(username))\n",
    "password = 'MyHydroShareWorld'\n",
    "\n",
    "auth = HydroShareAuthBasic(username=username, password=password)\n",
    "\n",
    "hs = HydroShare(auth=auth)\n",
    "\n",
    "print 'Connected to HydroShare'"
   ]
  },
  {
   "cell_type": "markdown",
   "metadata": {},
   "source": [
    "### Provide the HydroShare ID for your resource\n",
    "Example   \n",
    "HS_resourceID='85e9fe85b08244198995558fe7d0e294'"
   ]
  },
  {
   "cell_type": "code",
   "execution_count": 16,
   "metadata": {
    "collapsed": false
   },
   "outputs": [
    {
     "name": "stdout",
     "output_type": "stream",
     "text": [
      "Resource title\n",
      "WASH Model data in the Lower Bear River Watershed\n",
      "----------------------------\n",
      "SQLiteFileName= WASH.sqlite\n",
      "done\n"
     ]
    }
   ],
   "source": [
    "HS_resourceID ='85e9fe85b08244198995558fe7d0e294'\n",
    "\n",
    "# print the name of the provided resource\n",
    "resource_md = hs.getSystemMetadata(HS_resourceID)\n",
    "print 'Resource title'\n",
    "print(resource_md['resource_title'])\n",
    "print '----------------------------'\n",
    "\n",
    "\n",
    "resource_contents = hs.getResourceFolderContents(HS_resourceID,fname)\n",
    "fname=resource_contents['path']\n",
    "print 'SQLiteFileName= '+fname\n",
    "print 'done'"
   ]
  },
  {
   "cell_type": "markdown",
   "metadata": {},
   "source": [
    "### Connect to the HydroShare resource SQLite file"
   ]
  },
  {
   "cell_type": "code",
   "execution_count": 17,
   "metadata": {
    "collapsed": false
   },
   "outputs": [
    {
     "name": "stdout",
     "output_type": "stream",
     "text": [
      "connected\n"
     ]
    }
   ],
   "source": [
    "dirc='C:\\Users\\Adel\\Documents\\GitHub\\hs_restclient'\n",
    "fpath = hs.getResourceFile('85e9fe85b08244198995558fe7d0e294',\n",
    "                               fname, destination=dirc)\n",
    "conn = sqlite3.connect(\"WASH.sqlite\")\n",
    "\n",
    "print 'connected'"
   ]
  },
  {
   "cell_type": "code",
   "execution_count": null,
   "metadata": {
    "collapsed": true
   },
   "outputs": [],
   "source": []
  }
 ],
 "metadata": {
  "kernelspec": {
   "display_name": "Python 2",
   "language": "python",
   "name": "python2"
  },
  "language_info": {
   "codemirror_mode": {
    "name": "ipython",
    "version": 2
   },
   "file_extension": ".py",
   "mimetype": "text/x-python",
   "name": "python",
   "nbconvert_exporter": "python",
   "pygments_lexer": "ipython2",
   "version": "2.7.13"
  }
 },
 "nbformat": 4,
 "nbformat_minor": 2
}
